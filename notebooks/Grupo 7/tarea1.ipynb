{
 "cells": [
  {
   "cell_type": "code",
   "execution_count": 1,
   "id": "3d0b6ff9-3bd5-452e-a3eb-067462c3ca5c",
   "metadata": {},
   "outputs": [],
   "source": [
    "import numpy as np\n",
    "import pandas as pd\n",
    "import matplotlib.pyplot as plt\n",
    "import statsmodels.api as sm\n",
    "import statsmodels.formula.api as smf\n",
    "import sklearn\n",
    "import scipy \n",
    "from scipy.stats import nbinom"
   ]
  },
  {
   "cell_type": "code",
   "execution_count": 2,
   "id": "0cbac815-4eaf-49cb-9caa-24080ce5614f",
   "metadata": {},
   "outputs": [
    {
     "data": {
      "text/html": [
       "<div>\n",
       "<style scoped>\n",
       "    .dataframe tbody tr th:only-of-type {\n",
       "        vertical-align: middle;\n",
       "    }\n",
       "\n",
       "    .dataframe tbody tr th {\n",
       "        vertical-align: top;\n",
       "    }\n",
       "\n",
       "    .dataframe thead th {\n",
       "        text-align: right;\n",
       "    }\n",
       "</style>\n",
       "<table border=\"1\" class=\"dataframe\">\n",
       "  <thead>\n",
       "    <tr style=\"text-align: right;\">\n",
       "      <th></th>\n",
       "      <th>vive_padre</th>\n",
       "      <th>vive_madre</th>\n",
       "      <th>n_personas</th>\n",
       "      <th>n_habitaciones</th>\n",
       "      <th>cercania_juegos</th>\n",
       "      <th>cercania_servicios</th>\n",
       "      <th>edad_primer_parto</th>\n",
       "      <th>area</th>\n",
       "      <th>educm</th>\n",
       "      <th>educp</th>\n",
       "    </tr>\n",
       "  </thead>\n",
       "  <tbody>\n",
       "    <tr>\n",
       "      <th>0</th>\n",
       "      <td>0</td>\n",
       "      <td>1</td>\n",
       "      <td>3.0</td>\n",
       "      <td>4.0</td>\n",
       "      <td>0</td>\n",
       "      <td>0</td>\n",
       "      <td>25.0</td>\n",
       "      <td>1</td>\n",
       "      <td>0</td>\n",
       "      <td>0</td>\n",
       "    </tr>\n",
       "    <tr>\n",
       "      <th>1</th>\n",
       "      <td>0</td>\n",
       "      <td>1</td>\n",
       "      <td>5.0</td>\n",
       "      <td>3.0</td>\n",
       "      <td>0</td>\n",
       "      <td>0</td>\n",
       "      <td>23.0</td>\n",
       "      <td>1</td>\n",
       "      <td>13</td>\n",
       "      <td>13</td>\n",
       "    </tr>\n",
       "    <tr>\n",
       "      <th>2</th>\n",
       "      <td>1</td>\n",
       "      <td>1</td>\n",
       "      <td>5.0</td>\n",
       "      <td>3.0</td>\n",
       "      <td>0</td>\n",
       "      <td>0</td>\n",
       "      <td>19.0</td>\n",
       "      <td>1</td>\n",
       "      <td>12</td>\n",
       "      <td>17</td>\n",
       "    </tr>\n",
       "    <tr>\n",
       "      <th>3</th>\n",
       "      <td>1</td>\n",
       "      <td>1</td>\n",
       "      <td>4.0</td>\n",
       "      <td>2.0</td>\n",
       "      <td>0</td>\n",
       "      <td>0</td>\n",
       "      <td>27.0</td>\n",
       "      <td>1</td>\n",
       "      <td>6</td>\n",
       "      <td>13</td>\n",
       "    </tr>\n",
       "    <tr>\n",
       "      <th>4</th>\n",
       "      <td>1</td>\n",
       "      <td>1</td>\n",
       "      <td>5.0</td>\n",
       "      <td>3.0</td>\n",
       "      <td>1</td>\n",
       "      <td>0</td>\n",
       "      <td>20.0</td>\n",
       "      <td>1</td>\n",
       "      <td>13</td>\n",
       "      <td>16</td>\n",
       "    </tr>\n",
       "  </tbody>\n",
       "</table>\n",
       "</div>"
      ],
      "text/plain": [
       "   vive_padre  vive_madre  n_personas  n_habitaciones  cercania_juegos  \\\n",
       "0           0           1         3.0             4.0                0   \n",
       "1           0           1         5.0             3.0                0   \n",
       "2           1           1         5.0             3.0                0   \n",
       "3           1           1         4.0             2.0                0   \n",
       "4           1           1         5.0             3.0                1   \n",
       "\n",
       "   cercania_servicios  edad_primer_parto  area  educm  educp  \n",
       "0                   0               25.0     1      0      0  \n",
       "1                   0               23.0     1     13     13  \n",
       "2                   0               19.0     1     12     17  \n",
       "3                   0               27.0     1      6     13  \n",
       "4                   0               20.0     1     13     16  "
      ]
     },
     "execution_count": 2,
     "metadata": {},
     "output_type": "execute_result"
    }
   ],
   "source": [
    "# higher ed data\n",
    "juna = pd.read_csv('../../data/junaeb.csv')\n",
    "\n",
    "#Se eliminan las filas inválidas\n",
    "juna.dropna(inplace=True)\n",
    "    \n",
    "indexNames = juna[juna['vive_madre'] > 1].index\n",
    "juna.drop(indexNames , inplace=True)\n",
    "indexNames = juna[juna['n_habitaciones'] < 1].index\n",
    "juna.drop(indexNames , inplace=True)\n",
    "indexNames = juna[juna['n_habitaciones'] > 19].index #Hay un valor muy alejado, por lo que afecta el análisis\n",
    "juna.drop(indexNames , inplace=True)\n",
    "indexNames = juna[juna['cercania_juegos'] >2].index\n",
    "juna.drop(indexNames , inplace=True)\n",
    "indexNames = juna[juna['cercania_servicios'] >2].index\n",
    "juna.drop(indexNames , inplace=True)\n",
    "\n",
    "mapa = {2:1,1:0}\n",
    "juna[\"cercania_juegos\"] = juna[\"cercania_juegos\"].map(mapa)\n",
    "juna[\"cercania_servicios\"] = juna[\"cercania_servicios\"].map(mapa)\n",
    "\n",
    "juna.reset_index(drop=True, inplace=True)\n",
    "juna.head()\n",
    "\n",
    "#Cambiar el tipo de los stings vacios"
   ]
  },
  {
   "cell_type": "markdown",
   "id": "5f5ec874-8909-4131-8aa6-94e3d6328d13",
   "metadata": {},
   "source": [
    "### 1) Limpieza de datos\n",
    "- Se limpió la variable vive_madre puesto que existían valores mayores a 1\n",
    "- Se limpió la variable n_habitaciones en los que existian variables menores a 1\n",
    "- Las variables politomicas cercania_juegos y cerania_servicios, transformadas a variables binarias excluyendo las observaciones donde este dato era \"no se sabe\""
   ]
  },
  {
   "cell_type": "code",
   "execution_count": 3,
   "id": "be23e8f2-1042-4b52-b132-afa948803f59",
   "metadata": {},
   "outputs": [
    {
     "name": "stdout",
     "output_type": "stream",
     "text": [
      "Análisis de las distribuciones de las variables\n",
      "\n",
      "Descripcion de vive_padre\n",
      "Tipo de variable: dummy\n",
      "Media: 0.6855874425241795\n",
      "Desviacion estandar: 0.4642814891607616\n",
      "\n",
      "Descripcion de vive_madre\n",
      "Tipo de variable: dummy\n",
      "Media: 0.9738385920405899\n",
      "Desviacion estandar: 0.1596151267674574\n",
      "\n",
      "Descripcion de n_personas\n",
      "Tipo de variable: discreta\n",
      "Media: 4.394165213255113\n",
      "Desviacion estandar: 1.34184789603652\n",
      "\n",
      "Descripcion de n_habitaciones\n",
      "Tipo de variable: discreta\n",
      "Media: 2.58442999841446\n",
      "Desviacion estandar: 0.8734578723689438\n",
      "\n",
      "Descripcion de cercania_juegos\n",
      "Tipo de variable: dummy\n",
      "Media: 0.18170286982717615\n",
      "Desviacion estandar: 0.38559945140488\n",
      "\n",
      "Descripcion de cercania_servicios\n",
      "Tipo de variable: dummy\n",
      "Media: 0.13191691771048042\n",
      "Desviacion estandar: 0.33840042040790486\n",
      "\n",
      "Descripcion de edad_primer_parto\n",
      "Tipo de variable: discreta\n",
      "Media: 22.215316315205328\n",
      "Desviacion estandar: 5.187610718790342\n",
      "\n",
      "Descripcion de area\n",
      "Tipo de variable: dummy\n",
      "Media: 0.9004280957666085\n",
      "Desviacion estandar: 0.2994283555722934\n",
      "\n",
      "Descripcion de educm\n",
      "Tipo de variable: discreta\n",
      "Media: 12.654510860948152\n",
      "Desviacion estandar: 3.9007054844832445\n",
      "\n",
      "Descripcion de educp\n",
      "Tipo de variable: discreta\n",
      "Media: 11.210401141588711\n",
      "Desviacion estandar: 5.267413722692069\n",
      "\n"
     ]
    },
    {
     "data": {
      "image/png": "[encoded data removed]",
      "text/plain": [
       "<Figure size 432x288 with 10 Axes>"
      ]
     },
     "metadata": {
      "needs_background": "light"
     },
     "output_type": "display_data"
    }
   ],
   "source": [
    "print(\"Análisis de las distribuciones de las variables\\n\")\n",
    "fig, axes = plt.subplots(2,5)\n",
    "tipos = {\"vive_padre\":\"dummy\",\"vive_madre\":\"dummy\",\"area\":\"dummy\",\"cercania_juegos\":\"dummy\",\n",
    "         \"cercania_servicios\":\"dummy\",\"n_personas\":\"discreta\",\"n_habitaciones\":\"discreta\",\n",
    "        \"edad_primer_parto\":\"discreta\",\"educm\":\"discreta\",\"educp\":\"discreta\"}\n",
    "axes = np.reshape(axes,10)\n",
    "for i,col in enumerate(juna.columns):\n",
    "    print(f\"Descripcion de {col}\")\n",
    "    print(f\"Tipo de variable: {tipos[col]}\")\n",
    "    print(f\"Media: {np.average(juna[col])}\")\n",
    "    print(f\"Desviacion estandar: {np.std(juna[col])}\\n\")\n",
    "    axes[i].hist(juna[col])"
   ]
  },
  {
   "cell_type": "code",
   "execution_count": 4,
   "id": "2ee1a50c-e628-4be9-9363-db1210ff3012",
   "metadata": {},
   "outputs": [
    {
     "name": "stdout",
     "output_type": "stream",
     "text": [
      "                                 OLS Regression Results                                \n",
      "=======================================================================================\n",
      "Dep. Variable:             vive_padre   R-squared (uncentered):                   0.737\n",
      "Model:                            OLS   Adj. R-squared (uncentered):              0.737\n",
      "Method:                 Least Squares   F-statistic:                              2945.\n",
      "Date:                Thu, 15 Sep 2022   Prob (F-statistic):                        0.00\n",
      "Time:                        18:26:19   Log-Likelihood:                         -3545.1\n",
      "No. Observations:                6307   AIC:                                      7102.\n",
      "Df Residuals:                    6301   BIC:                                      7143.\n",
      "Df Model:                           6                                                  \n",
      "Covariance Type:            nonrobust                                                  \n",
      "=====================================================================================\n",
      "                        coef    std err          t      P>|t|      [0.025      0.975]\n",
      "-------------------------------------------------------------------------------------\n",
      "n_personas            0.0695      0.004     16.899      0.000       0.061       0.078\n",
      "n_habitaciones       -0.0425      0.007     -6.169      0.000      -0.056      -0.029\n",
      "edad_primer_parto     0.0134      0.001     15.595      0.000       0.012       0.015\n",
      "area                 -0.0423      0.017     -2.486      0.013      -0.076      -0.009\n",
      "educm                -0.0123      0.001     -8.914      0.000      -0.015      -0.010\n",
      "educp                 0.0340      0.001     31.705      0.000       0.032       0.036\n",
      "==============================================================================\n",
      "Omnibus:                      694.444   Durbin-Watson:                   1.990\n",
      "Prob(Omnibus):                  0.000   Jarque-Bera (JB):              782.923\n",
      "Skew:                          -0.821   Prob(JB):                    9.78e-171\n",
      "Kurtosis:                       2.467   Cond. No.                         92.2\n",
      "==============================================================================\n",
      "\n",
      "Notes:\n",
      "[1] R² is computed without centering (uncentered) since the model does not contain a constant.\n",
      "[2] Standard Errors assume that the covariance matrix of the errors is correctly specified.\n"
     ]
    }
   ],
   "source": [
    "# Modelo de regresión Lineal MCO\n",
    "columnas = [col for col in juna.columns]\n",
    "columnas.remove(\"vive_padre\")\n",
    "columnas.remove(\"vive_madre\")\n",
    "columnas.remove(\"cercania_servicios\")\n",
    "columnas.remove(\"cercania_juegos\")\n",
    "\n",
    "y=juna['vive_padre']\n",
    "X=juna[columnas]\n",
    "model = sm.OLS(y,X)\n",
    "resultado_ols = model.fit()\n",
    "print(resultado_ols.summary())"
   ]
  },
  {
   "cell_type": "markdown",
   "id": "511281da-8678-4918-8328-3983fe4e3e0d",
   "metadata": {},
   "source": [
    "### Notas del modelo de regresión lineal (MCO)\n",
    "- Notamos que las variables \"cercania de juegos\" y \"cercanía de servicios\" no son variables explicativas para predecir la variable \"vive_padre\" puesto que su rango de valores oscila entre los positivos y negativos, por lo que no hay seguridad de que estos son distintos de cero\n",
    "\n",
    "- El $R²$ tiene un valor de 0.783 lo que significa que las variables independientes explican un 78.3% del comportamiento de la variable independiente \"vive_padre\" \n",
    "\n",
    "- Debido a que vive_padre es una variable dicotomica, la OLS sirve para determinar valores cuantativos discretos, los valores de esta variable mediante OLS sale de los rangos"
   ]
  },
  {
   "cell_type": "code",
   "execution_count": 5,
   "id": "50ab7a54-fe1b-4dc3-b635-5eebb6a14e95",
   "metadata": {},
   "outputs": [
    {
     "name": "stdout",
     "output_type": "stream",
     "text": [
      "Optimization terminated successfully.\n",
      "         Current function value: 0.542215\n",
      "         Iterations 5\n",
      "                          Probit Regression Results                           \n",
      "==============================================================================\n",
      "Dep. Variable:             vive_padre   No. Observations:                 6307\n",
      "Model:                         Probit   Df Residuals:                     6301\n",
      "Method:                           MLE   Df Model:                            5\n",
      "Date:                Thu, 15 Sep 2022   Pseudo R-squ.:                  0.1291\n",
      "Time:                        18:26:19   Log-Likelihood:                -3419.7\n",
      "converged:                       True   LL-Null:                       -3926.6\n",
      "Covariance Type:            nonrobust   LLR p-value:                6.176e-217\n",
      "=====================================================================================\n",
      "                        coef    std err          z      P>|z|      [0.025      0.975]\n",
      "-------------------------------------------------------------------------------------\n",
      "n_personas            0.1317      0.014      9.699      0.000       0.105       0.158\n",
      "n_habitaciones       -0.1683      0.022     -7.507      0.000      -0.212      -0.124\n",
      "edad_primer_parto     0.0183      0.003      6.423      0.000       0.013       0.024\n",
      "area                 -0.3825      0.057     -6.664      0.000      -0.495      -0.270\n",
      "educm                -0.0586      0.005    -12.377      0.000      -0.068      -0.049\n",
      "educp                 0.0960      0.004     26.781      0.000       0.089       0.103\n",
      "=====================================================================================\n"
     ]
    }
   ],
   "source": [
    "# Modelo Probit\n",
    "columnas = [col for col in juna.columns]\n",
    "columnas.remove(\"vive_padre\")\n",
    "columnas.remove(\"vive_madre\")\n",
    "columnas.remove(\"cercania_servicios\")\n",
    "columnas.remove(\"cercania_juegos\")\n",
    "y=juna['vive_padre']\n",
    "X=juna[columnas]\n",
    "model = sm.Probit(y,X)\n",
    "resultado_probit = model.fit()\n",
    "print(resultado_probit.summary())"
   ]
  },
  {
   "cell_type": "code",
   "execution_count": 6,
   "id": "6906b0a0-69e3-4935-8941-9ca25da725c6",
   "metadata": {},
   "outputs": [
    {
     "name": "stdout",
     "output_type": "stream",
     "text": [
      "Optimization terminated successfully.\n",
      "         Current function value: 0.539831\n",
      "         Iterations 6\n",
      "                           Logit Regression Results                           \n",
      "==============================================================================\n",
      "Dep. Variable:             vive_padre   No. Observations:                 6307\n",
      "Model:                          Logit   Df Residuals:                     6301\n",
      "Method:                           MLE   Df Model:                            5\n",
      "Date:                Thu, 15 Sep 2022   Pseudo R-squ.:                  0.1329\n",
      "Time:                        18:26:19   Log-Likelihood:                -3404.7\n",
      "converged:                       True   LL-Null:                       -3926.6\n",
      "Covariance Type:            nonrobust   LLR p-value:                1.912e-223\n",
      "=====================================================================================\n",
      "                        coef    std err          z      P>|z|      [0.025      0.975]\n",
      "-------------------------------------------------------------------------------------\n",
      "n_personas            0.2366      0.024      9.674      0.000       0.189       0.284\n",
      "n_habitaciones       -0.2926      0.039     -7.528      0.000      -0.369      -0.216\n",
      "edad_primer_parto     0.0327      0.005      6.595      0.000       0.023       0.042\n",
      "area                 -0.6580      0.101     -6.493      0.000      -0.857      -0.459\n",
      "educm                -0.1081      0.009    -12.473      0.000      -0.125      -0.091\n",
      "educp                 0.1655      0.006     25.902      0.000       0.153       0.178\n",
      "=====================================================================================\n"
     ]
    }
   ],
   "source": [
    "# Modelo Logit\n",
    "model = sm.Logit(y,X)\n",
    "resultado_logit = model.fit()\n",
    "print(resultado_logit.summary(alpha = 0.05))"
   ]
  },
  {
   "cell_type": "markdown",
   "id": "51279cd3-f0a4-4d89-b53b-1f14eb407583",
   "metadata": {},
   "source": [
    "5. Comente los resultados obtenidos en 2, 3 y 4. ¿Cuáles y por qué existen las diferencias entre los resultados?. En su opinión, ¿Cuál sería el más adecuado para responder la pregunta de investgación y por qué? ¿Qué variables resultaron ser robustas a la especificación?\n",
    "\n",
    "- Pese a que el modelo OLS obtiene coeficientes con una alta significancia y el modelo explica un 73.9% la probabilidad de que el padre viva en el hogar, el resultado del modelo no está acotado entre [0,1] por lo que carece de propiedades proyectivas.\n",
    "\n",
    "- De esta forma las distribuciones Probit y Logit son mas apropiadas puesto que permiten precedir la probabilidad de que el padre viva en el hogar. Y entre estos modelos, sabemos que el modelo Logit tiene un Pseudo- $R^2$ mayor, por lo que se ajusta mejor a los datos que Probit. \n",
    "\n",
    "- Por otro lado, los valores de salida de log-likelihood de los modelos indican que el modelo Logit es el que mejor se ajusta a los datos que el modelo OLS y Probit, ya que, presente un valor mayor en log-likelihood, afirmando lo anterior.\n",
    "\n",
    "- Entre las variables usadas en los modelos, \"cercania_servicios\" y \"cercania_juegos\" demostraron ser no significativas y ademas tienen coeficientes muy cercanos a cero por lo que se tomó la decisión de excluirlas del modelo. Además se excluyó \"vive_madre\" pues es una variable que solo mostró significancia en el modelo OLS, por lo que no la consideramos lo suficientemente robusta para predecir la variable \"vive_padre\"."
   ]
  },
  {
   "cell_type": "markdown",
   "id": "52ae286b-cc64-45ed-a659-7b0f22ac9e07",
   "metadata": {},
   "source": [
    "6. Ejecute un modelo Poisson para explicar el número de personas que hay dentro de un hogar. (n_personas). Seleccione las variables dependientes a incluir en el modelo final e interprete su significado."
   ]
  },
  {
   "cell_type": "code",
   "execution_count": 7,
   "id": "b7c8f309-7b29-401a-9ab7-bc56e6a58237",
   "metadata": {},
   "outputs": [
    {
     "name": "stdout",
     "output_type": "stream",
     "text": [
      "                 Generalized Linear Model Regression Results                  \n",
      "==============================================================================\n",
      "Dep. Variable:             n_personas   No. Observations:                 6307\n",
      "Model:                            GLM   Df Residuals:                     6298\n",
      "Model Family:                 Poisson   Df Model:                            8\n",
      "Link Function:                    Log   Scale:                          1.0000\n",
      "Method:                          IRLS   Log-Likelihood:                -11561.\n",
      "Date:                Thu, 15 Sep 2022   Deviance:                       2214.1\n",
      "Time:                        18:26:19   Pearson chi2:                 2.52e+03\n",
      "No. Iterations:                     5   Pseudo R-squ. (CS):            0.03717\n",
      "Covariance Type:            nonrobust                                         \n",
      "======================================================================================\n",
      "                         coef    std err          z      P>|z|      [0.025      0.975]\n",
      "--------------------------------------------------------------------------------------\n",
      "vive_padre             0.1219      0.014      8.491      0.000       0.094       0.150\n",
      "vive_madre             0.7513      0.034     21.899      0.000       0.684       0.819\n",
      "n_habitaciones         0.1973      0.006     32.354      0.000       0.185       0.209\n",
      "cercania_juegos        0.0586      0.017      3.476      0.001       0.026       0.092\n",
      "cercania_servicios     0.0648      0.019      3.390      0.001       0.027       0.102\n",
      "edad_primer_parto     -0.0031      0.001     -2.711      0.007      -0.005      -0.001\n",
      "area                   0.1594      0.021      7.443      0.000       0.117       0.201\n",
      "educm                  0.0016      0.002      0.978      0.328      -0.002       0.005\n",
      "educp                  0.0003      0.001      0.261      0.794      -0.002       0.003\n",
      "======================================================================================\n"
     ]
    }
   ],
   "source": [
    "#### PIENSO QUE HAY QUE SACAR \"n_personas_sin_pm\"\n",
    "#def n_personas_sin_pm(n,vm,vp):\n",
    "    #return n -vm -vp\n",
    "\n",
    "#juna[\"n_personas_sin_pm\"] = juna.apply(lambda x: n_personas_sin_pm(n = x['n_personas'], vm = x['vive_madre'], vp = x['vive_padre']), axis=1)\n",
    "columnas = [col for col in juna.columns]\n",
    "columnas.remove(\"n_personas\") #debemos estimar n_personas_sin_pm\n",
    "#columnas.remove(\"n_personas_sin_pm\")\n",
    "y=juna['n_personas']\n",
    "X=juna[columnas]\n",
    "resultado = sm.GLM(y,X,family=sm.families.Poisson()).fit()\n",
    "\n",
    "print(resultado.summary())"
   ]
  },
  {
   "cell_type": "markdown",
   "id": "130dc933-1706-4ddf-82ae-6a2de1434bc1",
   "metadata": {},
   "source": [
    "7. Determine sobre dispersion y posible valor optimo de alpha para un modelo Binomial Negativa."
   ]
  },
  {
   "cell_type": "code",
   "execution_count": 8,
   "id": "a001403e-4794-4d7d-b361-ee359f44cbca",
   "metadata": {},
   "outputs": [
    {
     "name": "stdout",
     "output_type": "stream",
     "text": [
      "Lambda: [5.0684192  4.29549815 4.9114804  ... 3.3424157  3.91072775 4.22787141]\n",
      "x1   -0.139349\n",
      "dtype: float64\n",
      "Alpha: -0.13934908752525318\n"
     ]
    }
   ],
   "source": [
    "model=sm.GLM(y,X,family=sm.families.Poisson()).fit()\n",
    "print(f\"Lambda: {model.mu}\")\n",
    "#Hacemos el test de sobredispersion\n",
    "aux=((y-model.mu)**2-model.mu)/model.mu\n",
    "auxr = sm.OLS(aux,model.mu).fit()\n",
    "alpha = auxr.params[0]\n",
    "print(auxr.params)\n",
    "print(f\"Alpha: {alpha}\")"
   ]
  },
  {
   "cell_type": "markdown",
   "id": "927b8650-f23d-4ec1-8980-c0c5fb67f1d3",
   "metadata": {},
   "source": [
    "No existe sobredispersión, puesto que el valor de Alpha es negativo, implicando que la varianza es menor a la media, además se puede comparar con que $\\frac{\\text{Pearson} chi²}{Df} < 1$ justificando la misma afirmación."
   ]
  },
  {
   "cell_type": "markdown",
   "id": "e886640b-81cc-4f5b-aa5b-8fdcbb558a3e",
   "metadata": {},
   "source": [
    "8. Usando la informacion anterior, ejecute un modelo Binomial Negativa para explicar el número de personas que hay dentro de un hogar. (*n_personas*). Seleccione las variables dependientes a incluir en el modelo final e interprete su significado."
   ]
  },
  {
   "cell_type": "markdown",
   "id": "9bb50500-4855-497b-bcf1-9b5e00b72b11",
   "metadata": {},
   "source": [
    "- La distribución Binomial Negativo se utiliza cuando la distribución Poisson presente sobredispersión, es decir, cuando su varianza es superior a su media. Por ende, realizar un modelo Binomial Negativo sería erroneo en este caso.\n",
    "\n",
    "- Debido a que alpha es negativo, no se puede ajustar una distribucion Binomial Negativa para ser equivalente a la Poisson puesto que valores negativos generan resultados fuera del rango posible para la estimación.\n",
    "\n",
    "- De todas formas, al generar un modelo con una distrbucion binomial negativa el modelo no se ajusta tan bien como la distribucion Poisson."
   ]
  },
  {
   "cell_type": "code",
   "execution_count": 9,
   "id": "eee1cd31-cf53-4f3c-b68b-18a1c68760e1",
   "metadata": {},
   "outputs": [
    {
     "name": "stdout",
     "output_type": "stream",
     "text": [
      "                 Generalized Linear Model Regression Results                  \n",
      "==============================================================================\n",
      "Dep. Variable:             n_personas   No. Observations:                 6307\n",
      "Model:                            GLM   Df Residuals:                     6301\n",
      "Model Family:        NegativeBinomial   Df Model:                            5\n",
      "Link Function:                    Log   Scale:                          1.0000\n",
      "Method:                          IRLS   Log-Likelihood:                -16297.\n",
      "Date:                Thu, 15 Sep 2022   Deviance:                       422.79\n",
      "Time:                        18:26:19   Pearson chi2:                     512.\n",
      "No. Iterations:                     8   Pseudo R-squ. (CS):           0.004607\n",
      "Covariance Type:            nonrobust                                         \n",
      "======================================================================================\n",
      "                         coef    std err          z      P>|z|      [0.025      0.975]\n",
      "--------------------------------------------------------------------------------------\n",
      "vive_padre             0.1338      0.030      4.456      0.000       0.075       0.193\n",
      "vive_madre             0.6199      0.056     11.031      0.000       0.510       0.730\n",
      "n_habitaciones         0.2219      0.015     15.267      0.000       0.193       0.250\n",
      "cercania_juegos        0.0690      0.039      1.760      0.078      -0.008       0.146\n",
      "cercania_servicios     0.0755      0.044      1.698      0.089      -0.012       0.163\n",
      "area                   0.1828      0.045      4.027      0.000       0.094       0.272\n",
      "======================================================================================\n"
     ]
    }
   ],
   "source": [
    "\n",
    "columnas = [col for col in juna.columns]\n",
    "columnas.remove(\"n_personas\")\n",
    "columnas.remove(\"edad_primer_parto\")\n",
    "columnas.remove(\"educm\")\n",
    "columnas.remove(\"educp\")\n",
    "y=juna['n_personas']\n",
    "X=juna[columnas]\n",
    "negbin=sm.GLM(y,X,family=sm.families.NegativeBinomial()).fit()\n",
    "print(negbin.summary())"
   ]
  },
  {
   "cell_type": "markdown",
   "id": "5c2e32c9-8a38-4441-ae62-b3ea1db2c680",
   "metadata": {},
   "source": [
    "9. Comente los resultados obtenidos en 6, 7 y 8. ¿Cuáles y por qué existen las diferencias entre los resultados?. En su opinión, ¿Cuál sería el más adecuado para responder la pregunta de investgación y por qué? ¿Qué variables resultaron ser robustas a la especificación?"
   ]
  },
  {
   "cell_type": "markdown",
   "id": "d7ca771c-76f6-48d7-8914-d19dfe8d7bea",
   "metadata": {},
   "source": [
    "- La utilización del modelo Poisson es el adecuado para determinar el \"número de integrantes del hogar\" debido a que al realizar un test de sobre dispersión nos da un alpha negativo el cual es respaldado por $\\frac{\\text{Pearson} chi²}{Df} < 1$, lo que significa que no existe sobre dispersión, ósea que la varianza del modelo es inferior a la media.\n",
    "- Las variables que no presentan significancia para el modelo son \"edad_primer_parto\", \"educm\" y \"educp\", por lo que no son varibles robustas.\n",
    "\n",
    "- Los valores de salida de log-likelihood de los modelos indican que el modelo que se ajusta a los datos es el modelo Poisson, ya que, presenta un valor mayor que el modelo Binomial Negativa"
   ]
  },
  {
   "cell_type": "code",
   "execution_count": null,
   "id": "faedde88-0c83-41e0-b825-c92423219312",
   "metadata": {},
   "outputs": [],
   "source": []
  }
 ],
 "metadata": {
  "kernelspec": {
   "display_name": "Python 3 (ipykernel)",
   "language": "python",
   "name": "python3"
  },
  "language_info": {
   "codemirror_mode": {
    "name": "ipython",
    "version": 3
   },
   "file_extension": ".py",
   "mimetype": "text/x-python",
   "name": "python",
   "nbconvert_exporter": "python",
   "pygments_lexer": "ipython3",
   "version": "3.10.7"
  }
 },
 "nbformat": 4,
 "nbformat_minor": 5
}
